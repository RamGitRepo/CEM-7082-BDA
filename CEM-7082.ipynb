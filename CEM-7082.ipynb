{
 "cells": [
  {
   "cell_type": "code",
   "execution_count": 1,
   "metadata": {},
   "outputs": [],
   "source": [
    "from pyspark.sql import SparkSession"
   ]
  },
  {
   "cell_type": "code",
   "execution_count": 2,
   "metadata": {},
   "outputs": [],
   "source": [
    "spark = SparkSession.builder.appName(\"pysparkproject\").getOrCreate()"
   ]
  },
  {
   "cell_type": "code",
   "execution_count": 3,
   "metadata": {},
   "outputs": [],
   "source": [
    "df = spark.read.csv('C:/Users/ramna/DataScience/DataSet/HomePrediction.csv',header=True)"
   ]
  },
  {
   "cell_type": "code",
   "execution_count": 4,
   "metadata": {},
   "outputs": [
    {
     "name": "stdout",
     "output_type": "stream",
     "text": [
      "+--------------------+-------------+--------------------+---------+-------+----------+----+-------+-----+\n",
      "|           area_type| availability|            location|     size|society|total_sqft|bath|balcony|price|\n",
      "+--------------------+-------------+--------------------+---------+-------+----------+----+-------+-----+\n",
      "|Super built-up  Area|       19-Dec|Electronic City P...|    2 BHK|Coomee |      1056|   2|      1|39.07|\n",
      "|          Plot  Area|Ready To Move|    Chikka Tirupathi|4 Bedroom|Theanmp|      2600|   5|      3|  120|\n",
      "|      Built-up  Area|Ready To Move|         Uttarahalli|    3 BHK|   null|      1440|   2|      3|   62|\n",
      "|Super built-up  Area|Ready To Move|  Lingadheeranahalli|    3 BHK|Soiewre|      1521|   3|      1|   95|\n",
      "|Super built-up  Area|Ready To Move|            Kothanur|    2 BHK|   null|      1200|   2|      1|   51|\n",
      "|Super built-up  Area|Ready To Move|          Whitefield|    2 BHK|DuenaTa|      1170|   2|      1|   38|\n",
      "|Super built-up  Area|       18-May|    Old Airport Road|    4 BHK|Jaades |      2732|   4|   null|  204|\n",
      "|Super built-up  Area|Ready To Move|        Rajaji Nagar|    4 BHK|Brway G|      3300|   4|   null|  600|\n",
      "|Super built-up  Area|Ready To Move|        Marathahalli|    3 BHK|   null|      1310|   3|      1|63.25|\n",
      "|          Plot  Area|Ready To Move|        Gandhi Bazar|6 Bedroom|   null|      1020|   6|   null|  370|\n",
      "|Super built-up  Area|       18-Feb|          Whitefield|    3 BHK|   null|      1800|   2|      2|   70|\n",
      "|          Plot  Area|Ready To Move|          Whitefield|4 Bedroom|Prrry M|      2785|   5|      3|  295|\n",
      "|Super built-up  Area|Ready To Move|  7th Phase JP Nagar|    2 BHK|Shncyes|      1000|   2|      1|   38|\n",
      "|      Built-up  Area|Ready To Move|           Gottigere|    2 BHK|   null|      1100|   2|      2|   40|\n",
      "|          Plot  Area|Ready To Move|            Sarjapur|3 Bedroom|Skityer|      2250|   3|      2|  148|\n",
      "|Super built-up  Area|Ready To Move|         Mysore Road|    2 BHK|PrntaEn|      1175|   2|      2| 73.5|\n",
      "|Super built-up  Area|Ready To Move|       Bisuvanahalli|    3 BHK|Prityel|      1180|   3|      2|   48|\n",
      "|Super built-up  Area|Ready To Move|Raja Rajeshwari N...|    3 BHK|GrrvaGr|      1540|   3|      3|   60|\n",
      "|Super built-up  Area|Ready To Move|Ramakrishnappa La...|    3 BHK|PeBayle|      2770|   4|      2|  290|\n",
      "|Super built-up  Area|Ready To Move|  Manayata Tech Park|    2 BHK|   null|      1100|   2|      2|   48|\n",
      "+--------------------+-------------+--------------------+---------+-------+----------+----+-------+-----+\n",
      "only showing top 20 rows\n",
      "\n"
     ]
    }
   ],
   "source": [
    "df.show()"
   ]
  },
  {
   "cell_type": "code",
   "execution_count": null,
   "metadata": {},
   "outputs": [],
   "source": []
  }
 ],
 "metadata": {
  "kernelspec": {
   "display_name": "Python 3",
   "language": "python",
   "name": "python3"
  },
  "language_info": {
   "codemirror_mode": {
    "name": "ipython",
    "version": 3
   },
   "file_extension": ".py",
   "mimetype": "text/x-python",
   "name": "python",
   "nbconvert_exporter": "python",
   "pygments_lexer": "ipython3",
   "version": "3.7.6"
  }
 },
 "nbformat": 4,
 "nbformat_minor": 4
}
