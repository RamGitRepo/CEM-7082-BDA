{
 "cells": [
  {
   "cell_type": "code",
   "execution_count": 140,
   "metadata": {},
   "outputs": [],
   "source": [
    "import pyspark\n",
    "from pyspark.context import SparkContext, SparkConf\n",
    "from pyspark.sql import SparkSession"
   ]
  },
  {
   "cell_type": "code",
   "execution_count": 141,
   "metadata": {},
   "outputs": [],
   "source": [
    "spark = SparkSession.builder.appName(\"PysparkmlModel\").getOrCreate()"
   ]
  },
  {
   "cell_type": "code",
   "execution_count": 142,
   "metadata": {},
   "outputs": [],
   "source": [
    "mlDF = spark.read.csv('C:/Users/ramna/DataScience/DataSet/tableauModelReport.csv',header=True)"
   ]
  },
  {
   "cell_type": "code",
   "execution_count": 143,
   "metadata": {
    "scrolled": true
   },
   "outputs": [],
   "source": [
    "from pyspark.sql.types import IntegerType\n",
    "mlDF1 = mlDF.withColumn(\"PricePerSqft\", mlDF[\"PricePerSqft\"].cast(IntegerType())) .withColumn(\"SqftSize\", mlDF[\"SqftSize\"].cast(IntegerType())).withColumn(\"price\", mlDF[\"price\"].cast(IntegerType())).withColumn(\"bath\", mlDF[\"bath\"].cast(IntegerType()))"
   ]
  },
  {
   "cell_type": "code",
   "execution_count": 144,
   "metadata": {
    "scrolled": true
   },
   "outputs": [
    {
     "name": "stdout",
     "output_type": "stream",
     "text": [
      "+-------+-------+------------------+------------------+------------------+------------------+--------------+--------------------+\n",
      "|summary|BhkSize|      PricePerSqft|              bath|             price|          SqftSize|locationofHome|            AreaType|\n",
      "+-------+-------+------------------+------------------+------------------+------------------+--------------+--------------------+\n",
      "|  count|  12492|             12463|             12436|             12508|             12463|         12507|               12508|\n",
      "|   mean|   null| 8081.927866484795|2.7169507880347377|115.07083466581388| 1575.026077188478|          null|                null|\n",
      "| stddev|   null|109834.03851704008|1.3673681873810917|152.78077561858225|1271.0420912760098|          null|                null|\n",
      "|    min|  10BHK|               267|                 1|                 8|                 1|        Anekal|      Built-up  Area|\n",
      "|    max|   9BHK|          12000000|                40|              3600|             52272|    whitefiled|Super built-up  Area|\n",
      "+-------+-------+------------------+------------------+------------------+------------------+--------------+--------------------+\n",
      "\n"
     ]
    }
   ],
   "source": [
    "mlDF1.describe().show(5)"
   ]
  },
  {
   "cell_type": "code",
   "execution_count": 145,
   "metadata": {},
   "outputs": [
    {
     "name": "stdout",
     "output_type": "stream",
     "text": [
      "root\n",
      " |-- BhkSize: string (nullable = true)\n",
      " |-- PricePerSqft: integer (nullable = true)\n",
      " |-- bath: integer (nullable = true)\n",
      " |-- price: integer (nullable = true)\n",
      " |-- SqftSize: integer (nullable = true)\n",
      " |-- locationofHome: string (nullable = true)\n",
      " |-- AreaType: string (nullable = true)\n",
      "\n"
     ]
    }
   ],
   "source": [
    "mlDF1.printSchema()"
   ]
  },
  {
   "cell_type": "code",
   "execution_count": 155,
   "metadata": {},
   "outputs": [
    {
     "name": "stdout",
     "output_type": "stream",
     "text": [
      "+---------------------+\n",
      "|corr(price, SqftSize)|\n",
      "+---------------------+\n",
      "|   0.5727580283915608|\n",
      "+---------------------+\n",
      "\n"
     ]
    }
   ],
   "source": [
    "from pyspark.sql.functions import corr\n",
    "mlDF1.select(corr('price','SqftSize')).show(3)"
   ]
  },
  {
   "cell_type": "code",
   "execution_count": 161,
   "metadata": {},
   "outputs": [],
   "source": [
    "from pyspark.ml.regression import LinearRegression\n",
    "from pyspark.ml.feature import VectorAssembler\n",
    "assembler = VectorAssembler(inputCols=['SqftSize'], outputCol='features')\n",
    "mlDF2 = assembler.setHandleInvalid(\"skip\").transform(mlDF1)"
   ]
  },
  {
   "cell_type": "code",
   "execution_count": 167,
   "metadata": {},
   "outputs": [],
   "source": [
    "train,test = mlDF2.randomSplit([0.7, 0.3])"
   ]
  },
  {
   "cell_type": "code",
   "execution_count": 168,
   "metadata": {},
   "outputs": [
    {
     "name": "stdout",
     "output_type": "stream",
     "text": [
      "+--------+-----+\n",
      "|features|price|\n",
      "+--------+-----+\n",
      "|   [1.0]|  120|\n",
      "|   [5.0]|  115|\n",
      "+--------+-----+\n",
      "only showing top 2 rows\n",
      "\n"
     ]
    }
   ],
   "source": [
    "train.show(2)"
   ]
  },
  {
   "cell_type": "code",
   "execution_count": 169,
   "metadata": {},
   "outputs": [
    {
     "name": "stdout",
     "output_type": "stream",
     "text": [
      "+--------+-----+\n",
      "|features|price|\n",
      "+--------+-----+\n",
      "| [250.0]|   40|\n",
      "| [284.0]|    8|\n",
      "+--------+-----+\n",
      "only showing top 2 rows\n",
      "\n"
     ]
    }
   ],
   "source": [
    "test.show(2)"
   ]
  },
  {
   "cell_type": "code",
   "execution_count": 162,
   "metadata": {},
   "outputs": [],
   "source": [
    "mlDF2 = mlDF2.select(['features','price'])"
   ]
  },
  {
   "cell_type": "code",
   "execution_count": 163,
   "metadata": {},
   "outputs": [],
   "source": [
    "linearReg = LinearRegression(maxIter=10, labelCol='price') "
   ]
  },
  {
   "cell_type": "code",
   "execution_count": 164,
   "metadata": {},
   "outputs": [],
   "source": [
    "lnrModel = linearReg.fit(mlDF2)"
   ]
  },
  {
   "cell_type": "code",
   "execution_count": 165,
   "metadata": {},
   "outputs": [
    {
     "name": "stdout",
     "output_type": "stream",
     "text": [
      "Intercept: 6.447608656996459\n",
      "Coefficient: [0.06889671]\n"
     ]
    }
   ],
   "source": [
    "print(f'Intercept: {lnrModel.intercept}\\nCoefficient: {lnrModel.coefficients.values}')"
   ]
  },
  {
   "cell_type": "code",
   "execution_count": 171,
   "metadata": {},
   "outputs": [
    {
     "name": "stdout",
     "output_type": "stream",
     "text": [
      "RMSE: 125.325005\n",
      "\n",
      "r2: 0.328052\n"
     ]
    }
   ],
   "source": [
    "trainSummary = lnrModel.summary\n",
    "print(\"RMSE: %f\" % trainSummary.rootMeanSquaredError)\n",
    "print(\"\\nr2: %f\" % trainSummary.r2)\n"
   ]
  },
  {
   "cell_type": "code",
   "execution_count": 172,
   "metadata": {
    "scrolled": true
   },
   "outputs": [
    {
     "name": "stdout",
     "output_type": "stream",
     "text": [
      "+------------------+-----+------------------+--------+\n",
      "|        prediction|price|          Accuracy|features|\n",
      "+------------------+-----+------------------+--------+\n",
      "|23.671786660412906|   40|40.820533348967736| [250.0]|\n",
      "|26.014274868877543|    8|225.17843586096927| [284.0]|\n",
      "| 26.84103541304153|   22| 22.00470642291605| [296.0]|\n",
      "|30.561457861779484|   13|135.08813739830373| [350.0]|\n",
      "|31.250424981916144|   16|  95.3151561369759| [360.0]|\n",
      "+------------------+-----+------------------+--------+\n",
      "only showing top 5 rows\n",
      "\n"
     ]
    }
   ],
   "source": [
    "from  pyspark.sql.functions import abs\n",
    "predictions = lnrModel.transform(test)\n",
    "x =((predictions['price']-predictions['prediction'])/predictions['price'])*100\n",
    "predictions = predictions.withColumn('Accuracy',abs(x))\n",
    "predictions.select(\"prediction\",\"price\",\"Accuracy\",\"features\").show(5)"
   ]
  },
  {
   "cell_type": "code",
   "execution_count": 173,
   "metadata": {},
   "outputs": [
    {
     "name": "stdout",
     "output_type": "stream",
     "text": [
      "R Squared (R2) on test data = 0.437989\n"
     ]
    }
   ],
   "source": [
    "from pyspark.ml.evaluation import RegressionEvaluator\n",
    "pred_evaluator = RegressionEvaluator(predictionCol=\"prediction\", labelCol=\"price\",metricName=\"r2\")\n",
    "print(\"R Squared (R2) on test data = %g\" % pred_evaluator.evaluate(predictions))"
   ]
  },
  {
   "cell_type": "code",
   "execution_count": 175,
   "metadata": {},
   "outputs": [],
   "source": [
    "r2 = trainSummary.r2\n",
    "n = mlDF2.count()\n",
    "p = len(mlDF2.columns)\n",
    "adjusted_r2 = 1-(1-r2)*(n-1)/(n-p-1)"
   ]
  },
  {
   "cell_type": "code",
   "execution_count": 177,
   "metadata": {},
   "outputs": [
    {
     "data": {
      "text/plain": [
       "125.32500489914895"
      ]
     },
     "execution_count": 177,
     "metadata": {},
     "output_type": "execute_result"
    }
   ],
   "source": [
    "lnrModel.summary.rootMeanSquaredError"
   ]
  },
  {
   "cell_type": "code",
   "execution_count": null,
   "metadata": {},
   "outputs": [],
   "source": []
  },
  {
   "cell_type": "code",
   "execution_count": null,
   "metadata": {},
   "outputs": [],
   "source": []
  },
  {
   "cell_type": "code",
   "execution_count": 93,
   "metadata": {},
   "outputs": [],
   "source": [
    "lnrsmry = lnrModel.summary"
   ]
  },
  {
   "cell_type": "code",
   "execution_count": 97,
   "metadata": {},
   "outputs": [
    {
     "name": "stdout",
     "output_type": "stream",
     "text": [
      "Explained Variance: 7667.998337884259\n",
      "R Squared: 0.3280517590869928\n",
      "Std. Error: [0.0008833214437298061, 1.7877442980548]\n",
      "Root Mean Squared Err: 125.32500489914895\n",
      "Mean Absolute Err: 52.128559566502204\n",
      "Mean Squared Err: 15706.356852971709\n",
      "P-value: [0.0, 0.0003114950045708387]\n",
      "+-------------------+\n",
      "|          residuals|\n",
      "+-------------------+\n",
      "|-14.458169875445279|\n",
      "| -15.73774742670733|\n",
      "|-24.123663073395406|\n",
      "| -50.09021239319043|\n",
      "| -37.65887395667521|\n",
      "+-------------------+\n",
      "only showing top 5 rows\n",
      "\n",
      "Num Iterations: 1\n",
      "Objective History: [0.0]\n"
     ]
    }
   ],
   "source": [
    "print(f'Explained Variance: {lnrsmry.explainedVariance}\\nR Squared: {lnrsmry.r2}')\n",
    "print(f'Std. Error: {lnrsmry.coefficientStandardErrors}\\nRoot Mean Squared Err: {lnrsmry.rootMeanSquaredError}')\n",
    "print(f'Mean Absolute Err: {lnrsmry.meanAbsoluteError}\\nMean Squared Err: {lnrsmry.meanSquaredError}')\n",
    "print(f'P-value: {lnrsmry.pValues}')\n",
    "lnrsmry.residuals.show(5)\n",
    "print(f'Num Iterations: {lnrsmry.totalIterations}\\nObjective History: {lnrsmry.objectiveHistory}')"
   ]
  },
  {
   "cell_type": "code",
   "execution_count": 98,
   "metadata": {},
   "outputs": [
    {
     "name": "stdout",
     "output_type": "stream",
     "text": [
      "+--------+-----+------------------+\n",
      "|features|price|        prediction|\n",
      "+--------+-----+------------------+\n",
      "|[1350.0]| 85.0| 99.45816987544528|\n",
      "|[1296.0]| 80.0| 95.73774742670733|\n",
      "|[1200.0]| 65.0|  89.1236630733954|\n",
      "|[1185.0]| 38.0| 88.09021239319043|\n",
      "|[1440.0]| 68.0|105.65887395667521|\n",
      "+--------+-----+------------------+\n",
      "only showing top 5 rows\n",
      "\n"
     ]
    }
   ],
   "source": [
    "lnrsmry.predictions.show(5)"
   ]
  },
  {
   "cell_type": "code",
   "execution_count": null,
   "metadata": {},
   "outputs": [],
   "source": []
  }
 ],
 "metadata": {
  "kernelspec": {
   "display_name": "Python 3",
   "language": "python",
   "name": "python3"
  },
  "language_info": {
   "codemirror_mode": {
    "name": "ipython",
    "version": 3
   },
   "file_extension": ".py",
   "mimetype": "text/x-python",
   "name": "python",
   "nbconvert_exporter": "python",
   "pygments_lexer": "ipython3",
   "version": "3.7.6"
  }
 },
 "nbformat": 4,
 "nbformat_minor": 4
}
