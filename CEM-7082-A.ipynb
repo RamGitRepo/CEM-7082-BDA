{
 "cells": [
  {
   "cell_type": "code",
   "execution_count": 13,
   "metadata": {},
   "outputs": [],
   "source": [
    "import pyspark"
   ]
  },
  {
   "cell_type": "code",
   "execution_count": 14,
   "metadata": {},
   "outputs": [],
   "source": [
    "from pyspark.context import SparkContext, SparkConf\n",
    "from pyspark.sql import SparkSession"
   ]
  },
  {
   "cell_type": "code",
   "execution_count": 15,
   "metadata": {},
   "outputs": [],
   "source": [
    "spark = SparkSession.builder.appName(\"pysparkproject\").getOrCreate()"
   ]
  },
  {
   "cell_type": "code",
   "execution_count": 16,
   "metadata": {},
   "outputs": [],
   "source": [
    "csvdf = spark.read.csv('C:/Users/ramna/DataScience/DataSet/HouseDataPrediction.csv',header=True)"
   ]
  },
  {
   "cell_type": "code",
   "execution_count": 17,
   "metadata": {
    "scrolled": true
   },
   "outputs": [
    {
     "name": "stdout",
     "output_type": "stream",
     "text": [
      "+--------------------+-------------+--------------------+---------+-------+----------+----+-------+-----+\n",
      "|           area_type| availability|            location|     size|society|total_sqft|bath|balcony|price|\n",
      "+--------------------+-------------+--------------------+---------+-------+----------+----+-------+-----+\n",
      "|Super built-up  Area|       19-Dec|Electronic City P...|    2 BHK|Coomee |      1056|   2|      1|39.07|\n",
      "|          Plot  Area|Ready To Move|    Chikka Tirupathi|4 Bedroom|Theanmp|      2600|   5|      3|  120|\n",
      "|      Built-up  Area|Ready To Move|         Uttarahalli|    3 BHK|   null|      1440|   2|      3|   62|\n",
      "|Super built-up  Area|Ready To Move|  Lingadheeranahalli|    3 BHK|Soiewre|      1521|   3|      1|   95|\n",
      "|Super built-up  Area|Ready To Move|            Kothanur|    2 BHK|   null|      1200|   2|      1|   51|\n",
      "+--------------------+-------------+--------------------+---------+-------+----------+----+-------+-----+\n",
      "only showing top 5 rows\n",
      "\n"
     ]
    }
   ],
   "source": [
    "csvdf.show(5)"
   ]
  },
  {
   "cell_type": "code",
   "execution_count": 18,
   "metadata": {},
   "outputs": [
    {
     "data": {
      "text/plain": [
       "13320"
      ]
     },
     "execution_count": 18,
     "metadata": {},
     "output_type": "execute_result"
    }
   ],
   "source": [
    "csvdf.count()"
   ]
  },
  {
   "cell_type": "code",
   "execution_count": 19,
   "metadata": {
    "scrolled": true
   },
   "outputs": [
    {
     "name": "stdout",
     "output_type": "stream",
     "text": [
      "root\n",
      " |-- area_type: string (nullable = true)\n",
      " |-- availability: string (nullable = true)\n",
      " |-- location: string (nullable = true)\n",
      " |-- size: string (nullable = true)\n",
      " |-- society: string (nullable = true)\n",
      " |-- total_sqft: string (nullable = true)\n",
      " |-- bath: string (nullable = true)\n",
      " |-- balcony: string (nullable = true)\n",
      " |-- price: string (nullable = true)\n",
      "\n"
     ]
    }
   ],
   "source": [
    "csvdf.printSchema()"
   ]
  },
  {
   "cell_type": "code",
   "execution_count": 20,
   "metadata": {
    "scrolled": true
   },
   "outputs": [
    {
     "name": "stdout",
     "output_type": "stream",
     "text": [
      "+---------+-----+\n",
      "|     size|count|\n",
      "+---------+-----+\n",
      "|    2 BHK| 5199|\n",
      "|    3 BHK| 4310|\n",
      "|4 Bedroom|  826|\n",
      "|    4 BHK|  591|\n",
      "|3 Bedroom|  547|\n",
      "+---------+-----+\n",
      "only showing top 5 rows\n",
      "\n"
     ]
    }
   ],
   "source": [
    "from pyspark.sql.functions import desc\n",
    "csvdf.groupby(csvdf.size).count().sort(desc(\"count\")).show(5)"
   ]
  },
  {
   "cell_type": "code",
   "execution_count": 21,
   "metadata": {},
   "outputs": [
    {
     "data": {
      "text/plain": [
       "32"
      ]
     },
     "execution_count": 21,
     "metadata": {},
     "output_type": "execute_result"
    }
   ],
   "source": [
    "csvdf.select('size').distinct().count()"
   ]
  },
  {
   "cell_type": "code",
   "execution_count": 22,
   "metadata": {
    "scrolled": true
   },
   "outputs": [
    {
     "name": "stdout",
     "output_type": "stream",
     "text": [
      "+--------------------+--------------------+---------+----------+----+-----+\n",
      "|           area_type|            location|     size|total_sqft|bath|price|\n",
      "+--------------------+--------------------+---------+----------+----+-----+\n",
      "|Super built-up  Area|Electronic City P...|    2 BHK|      1056|   2|39.07|\n",
      "|          Plot  Area|    Chikka Tirupathi|4 Bedroom|      2600|   5|  120|\n",
      "|      Built-up  Area|         Uttarahalli|    3 BHK|      1440|   2|   62|\n",
      "|Super built-up  Area|  Lingadheeranahalli|    3 BHK|      1521|   3|   95|\n",
      "|Super built-up  Area|            Kothanur|    2 BHK|      1200|   2|   51|\n",
      "+--------------------+--------------------+---------+----------+----+-----+\n",
      "only showing top 5 rows\n",
      "\n"
     ]
    }
   ],
   "source": [
    "csvdropDF = csvdf.drop('society','balcony','availability')\n",
    "csvdropDF.show(5)"
   ]
  },
  {
   "cell_type": "code",
   "execution_count": 23,
   "metadata": {},
   "outputs": [
    {
     "data": {
      "text/plain": [
       "13320"
      ]
     },
     "execution_count": 23,
     "metadata": {},
     "output_type": "execute_result"
    }
   ],
   "source": [
    "csvdropDF.count()"
   ]
  },
  {
   "cell_type": "code",
   "execution_count": 24,
   "metadata": {
    "scrolled": false
   },
   "outputs": [],
   "source": [
    "from pyspark.sql.functions import col,split\n",
    "csvSizeDF = csvdropDF.withColumn('sizeofBhk',split(col(\"size\"),' ').getItem(0))"
   ]
  },
  {
   "cell_type": "code",
   "execution_count": 25,
   "metadata": {
    "scrolled": false
   },
   "outputs": [
    {
     "data": {
      "text/plain": [
       "[Row(area_type='Super built-up  Area', location='Electronic City Phase II', size='2 BHK', total_sqft='1056', bath='2', price='39.07', sizeofBhk='2'),\n",
       " Row(area_type='Plot  Area', location='Chikka Tirupathi', size='4 Bedroom', total_sqft='2600', bath='5', price='120', sizeofBhk='4'),\n",
       " Row(area_type='Built-up  Area', location='Uttarahalli', size='3 BHK', total_sqft='1440', bath='2', price='62', sizeofBhk='3'),\n",
       " Row(area_type='Super built-up  Area', location='Lingadheeranahalli', size='3 BHK', total_sqft='1521', bath='3', price='95', sizeofBhk='3'),\n",
       " Row(area_type='Super built-up  Area', location='Kothanur', size='2 BHK', total_sqft='1200', bath='2', price='51', sizeofBhk='2')]"
      ]
     },
     "execution_count": 25,
     "metadata": {},
     "output_type": "execute_result"
    }
   ],
   "source": [
    "csvSizeDF.head(5)"
   ]
  },
  {
   "cell_type": "code",
   "execution_count": 26,
   "metadata": {},
   "outputs": [],
   "source": [
    "csvbhkDF = csvSizeDF"
   ]
  },
  {
   "cell_type": "code",
   "execution_count": 27,
   "metadata": {},
   "outputs": [
    {
     "name": "stdout",
     "output_type": "stream",
     "text": [
      "+--------------------+--------------------+---------+----------+----+-----+---------+\n",
      "|           area_type|            location|     size|total_sqft|bath|price|sizeofBhk|\n",
      "+--------------------+--------------------+---------+----------+----+-----+---------+\n",
      "|Super built-up  Area|Electronic City P...|    2 BHK|      1056|   2|39.07|        2|\n",
      "|          Plot  Area|    Chikka Tirupathi|4 Bedroom|      2600|   5|  120|        4|\n",
      "+--------------------+--------------------+---------+----------+----+-----+---------+\n",
      "only showing top 2 rows\n",
      "\n"
     ]
    }
   ],
   "source": [
    "csvbhkDF.show(2)"
   ]
  },
  {
   "cell_type": "code",
   "execution_count": 28,
   "metadata": {},
   "outputs": [],
   "source": [
    "from pyspark.sql.functions import concat,lit\n",
    "csvBhkSizeDF = csvbhkDF.select('area_type','location','size','total_sqft','bath','price',\n",
    "                               concat('sizeofBhk',lit('BHK')).alias('BhkSize'))"
   ]
  },
  {
   "cell_type": "code",
   "execution_count": 29,
   "metadata": {
    "scrolled": true
   },
   "outputs": [
    {
     "name": "stdout",
     "output_type": "stream",
     "text": [
      "+--------------------+--------------------+---------+----------+----+-----+-------+\n",
      "|           area_type|            location|     size|total_sqft|bath|price|BhkSize|\n",
      "+--------------------+--------------------+---------+----------+----+-----+-------+\n",
      "|Super built-up  Area|Electronic City P...|    2 BHK|      1056|   2|39.07|   2BHK|\n",
      "|          Plot  Area|    Chikka Tirupathi|4 Bedroom|      2600|   5|  120|   4BHK|\n",
      "+--------------------+--------------------+---------+----------+----+-----+-------+\n",
      "only showing top 2 rows\n",
      "\n"
     ]
    }
   ],
   "source": [
    "csvBhkSizeDF.show(2)"
   ]
  },
  {
   "cell_type": "code",
   "execution_count": 30,
   "metadata": {},
   "outputs": [],
   "source": [
    "csvData = csvBhkSizeDF.drop('size')"
   ]
  },
  {
   "cell_type": "code",
   "execution_count": 31,
   "metadata": {},
   "outputs": [
    {
     "name": "stdout",
     "output_type": "stream",
     "text": [
      "+--------------------+--------------------+----------+----+-----+-------+\n",
      "|           area_type|            location|total_sqft|bath|price|BhkSize|\n",
      "+--------------------+--------------------+----------+----+-----+-------+\n",
      "|Super built-up  Area|Electronic City P...|      1056|   2|39.07|   2BHK|\n",
      "|          Plot  Area|    Chikka Tirupathi|      2600|   5|  120|   4BHK|\n",
      "|      Built-up  Area|         Uttarahalli|      1440|   2|   62|   3BHK|\n",
      "|Super built-up  Area|  Lingadheeranahalli|      1521|   3|   95|   3BHK|\n",
      "+--------------------+--------------------+----------+----+-----+-------+\n",
      "only showing top 4 rows\n",
      "\n"
     ]
    }
   ],
   "source": [
    "csvData.show(4)"
   ]
  },
  {
   "cell_type": "code",
   "execution_count": 32,
   "metadata": {
    "scrolled": true
   },
   "outputs": [
    {
     "name": "stdout",
     "output_type": "stream",
     "text": [
      "+-------+-----+\n",
      "|BhkSize|count|\n",
      "+-------+-----+\n",
      "|   2BHK| 5528|\n",
      "|   3BHK| 4857|\n",
      "|   4BHK| 1417|\n",
      "|   1BHK|  656|\n",
      "|   5BHK|  356|\n",
      "+-------+-----+\n",
      "only showing top 5 rows\n",
      "\n"
     ]
    }
   ],
   "source": [
    "from pyspark.sql.functions import desc\n",
    "csvData.groupby(csvData.BhkSize).count().sort(desc(\"count\")).show(5)"
   ]
  },
  {
   "cell_type": "code",
   "execution_count": 33,
   "metadata": {
    "scrolled": true
   },
   "outputs": [
    {
     "name": "stdout",
     "output_type": "stream",
     "text": [
      "+--------------------+--------------------+----------+----+-----+-------+\n",
      "|           area_type|            location|total_sqft|bath|price|BhkSize|\n",
      "+--------------------+--------------------+----------+----+-----+-------+\n",
      "|Super built-up  Area|Electronic City P...|      1056|   2|39.07|   2BHK|\n",
      "|          Plot  Area|    Chikka Tirupathi|      2600|   5|  120|   4BHK|\n",
      "|      Built-up  Area|         Uttarahalli|      1440|   2|   62|   3BHK|\n",
      "|Super built-up  Area|  Lingadheeranahalli|      1521|   3|   95|   3BHK|\n",
      "|Super built-up  Area|            Kothanur|      1200|   2|   51|   2BHK|\n",
      "+--------------------+--------------------+----------+----+-----+-------+\n",
      "only showing top 5 rows\n",
      "\n"
     ]
    }
   ],
   "source": [
    "csvData.show(5)"
   ]
  },
  {
   "cell_type": "code",
   "execution_count": 34,
   "metadata": {
    "scrolled": true
   },
   "outputs": [
    {
     "name": "stdout",
     "output_type": "stream",
     "text": [
      "+----------+-----+\n",
      "|total_sqft|count|\n",
      "+----------+-----+\n",
      "|      1200|  843|\n",
      "|      1100|  221|\n",
      "|      1500|  205|\n",
      "|      2400|  196|\n",
      "|       600|  180|\n",
      "+----------+-----+\n",
      "only showing top 5 rows\n",
      "\n"
     ]
    }
   ],
   "source": [
    "csvData.groupby(csvData.total_sqft).count().sort(desc(\"count\")).show(5)"
   ]
  },
  {
   "cell_type": "code",
   "execution_count": 35,
   "metadata": {
    "scrolled": false
   },
   "outputs": [
    {
     "name": "stdout",
     "output_type": "stream",
     "text": [
      "+--------------------+--------------------+----------+----+-----+-------+\n",
      "|           area_type|            location|total_sqft|bath|price|BhkSize|\n",
      "+--------------------+--------------------+----------+----+-----+-------+\n",
      "|Super built-up  Area|Electronic City P...|      1056|   2|39.07|   2BHK|\n",
      "|          Plot  Area|    Chikka Tirupathi|      2600|   5|  120|   4BHK|\n",
      "|      Built-up  Area|         Uttarahalli|      1440|   2|   62|   3BHK|\n",
      "|Super built-up  Area|  Lingadheeranahalli|      1521|   3|   95|   3BHK|\n",
      "|Super built-up  Area|            Kothanur|      1200|   2|   51|   2BHK|\n",
      "+--------------------+--------------------+----------+----+-----+-------+\n",
      "only showing top 5 rows\n",
      "\n"
     ]
    }
   ],
   "source": [
    "csvData.show(5)"
   ]
  },
  {
   "cell_type": "code",
   "execution_count": 40,
   "metadata": {},
   "outputs": [],
   "source": [
    "csvSqftDF = csvData"
   ]
  },
  {
   "cell_type": "code",
   "execution_count": 41,
   "metadata": {
    "scrolled": true
   },
   "outputs": [
    {
     "name": "stdout",
     "output_type": "stream",
     "text": [
      "+--------------------+--------------------+----------+----+-----+-------+\n",
      "|           area_type|            location|total_sqft|bath|price|BhkSize|\n",
      "+--------------------+--------------------+----------+----+-----+-------+\n",
      "|Super built-up  Area|Electronic City P...|      1056|   2|39.07|   2BHK|\n",
      "|          Plot  Area|    Chikka Tirupathi|      2600|   5|  120|   4BHK|\n",
      "+--------------------+--------------------+----------+----+-----+-------+\n",
      "only showing top 2 rows\n",
      "\n"
     ]
    }
   ],
   "source": [
    "csvSqftDF.show(2)"
   ]
  },
  {
   "cell_type": "code",
   "execution_count": 55,
   "metadata": {
    "scrolled": false
   },
   "outputs": [],
   "source": [
    "from pyspark.sql.functions import udf\n",
    "from pyspark.sql.types import FloatType\n",
    "\n",
    "def isSqftfloat(total_sqft):\n",
    "    sp = total_sqft.split('-')\n",
    "    if len(sp) == 2:\n",
    "        return (float(sp[0])+float(sp[1]))/2\n",
    "    try:\n",
    "        return float(total_sqft)\n",
    "    except:\n",
    "        return None\n",
    "    \n",
    "    \n",
    "csvsqftCleanDF = udf(lambda total_sqft: isSqftfloat(total_sqft), FloatType())\n",
    "\n",
    "csfSqftHomDF = csvSqftDF.select('area_type','location','BhkSize','bath','price','total_sqft',csvsqftCleanDF('total_sqft')\n",
    "                  .alias('SqftofHome'))"
   ]
  },
  {
   "cell_type": "code",
   "execution_count": 56,
   "metadata": {
    "scrolled": false
   },
   "outputs": [
    {
     "name": "stdout",
     "output_type": "stream",
     "text": [
      "+--------------------+--------------------+-------+----+-----+----------+----------+\n",
      "|           area_type|            location|BhkSize|bath|price|total_sqft|SqftofHome|\n",
      "+--------------------+--------------------+-------+----+-----+----------+----------+\n",
      "|Super built-up  Area|Electronic City P...|   2BHK|   2|39.07|      1056|    1056.0|\n",
      "|          Plot  Area|    Chikka Tirupathi|   4BHK|   5|  120|      2600|    2600.0|\n",
      "|      Built-up  Area|         Uttarahalli|   3BHK|   2|   62|      1440|    1440.0|\n",
      "|Super built-up  Area|  Lingadheeranahalli|   3BHK|   3|   95|      1521|    1521.0|\n",
      "|Super built-up  Area|            Kothanur|   2BHK|   2|   51|      1200|    1200.0|\n",
      "+--------------------+--------------------+-------+----+-----+----------+----------+\n",
      "only showing top 5 rows\n",
      "\n"
     ]
    }
   ],
   "source": [
    "csfSqftHomDF.show(5)"
   ]
  },
  {
   "cell_type": "code",
   "execution_count": 57,
   "metadata": {},
   "outputs": [],
   "source": [
    "csfSqHomDF = csfSqftHomDF.drop('total_sqft')"
   ]
  },
  {
   "cell_type": "code",
   "execution_count": 58,
   "metadata": {},
   "outputs": [
    {
     "name": "stdout",
     "output_type": "stream",
     "text": [
      "+--------------------+--------------------+-------+----+-----+----------+\n",
      "|           area_type|            location|BhkSize|bath|price|SqftofHome|\n",
      "+--------------------+--------------------+-------+----+-----+----------+\n",
      "|Super built-up  Area|Electronic City P...|   2BHK|   2|39.07|    1056.0|\n",
      "|          Plot  Area|    Chikka Tirupathi|   4BHK|   5|  120|    2600.0|\n",
      "|      Built-up  Area|         Uttarahalli|   3BHK|   2|   62|    1440.0|\n",
      "|Super built-up  Area|  Lingadheeranahalli|   3BHK|   3|   95|    1521.0|\n",
      "|Super built-up  Area|            Kothanur|   2BHK|   2|   51|    1200.0|\n",
      "+--------------------+--------------------+-------+----+-----+----------+\n",
      "only showing top 5 rows\n",
      "\n"
     ]
    }
   ],
   "source": [
    "csfSqHomDF.show(5)"
   ]
  },
  {
   "cell_type": "code",
   "execution_count": 59,
   "metadata": {},
   "outputs": [],
   "source": [
    "csfPPSftDF = csfSqHomDF.withColumn('PricePerSqft',csfSqHomDF.price*100000/csfSqHomDF.SqftofHome)"
   ]
  },
  {
   "cell_type": "code",
   "execution_count": 60,
   "metadata": {
    "scrolled": false
   },
   "outputs": [
    {
     "name": "stdout",
     "output_type": "stream",
     "text": [
      "+--------------------+--------------------+-------+----+-----+----------+-----------------+\n",
      "|           area_type|            location|BhkSize|bath|price|SqftofHome|     PricePerSqft|\n",
      "+--------------------+--------------------+-------+----+-----+----------+-----------------+\n",
      "|Super built-up  Area|Electronic City P...|   2BHK|   2|39.07|    1056.0|3699.810606060606|\n",
      "|          Plot  Area|    Chikka Tirupathi|   4BHK|   5|  120|    2600.0|4615.384615384615|\n",
      "|      Built-up  Area|         Uttarahalli|   3BHK|   2|   62|    1440.0|4305.555555555556|\n",
      "+--------------------+--------------------+-------+----+-----+----------+-----------------+\n",
      "only showing top 3 rows\n",
      "\n"
     ]
    }
   ],
   "source": [
    "csfPPSftDF.show(3)"
   ]
  },
  {
   "cell_type": "code",
   "execution_count": 61,
   "metadata": {},
   "outputs": [
    {
     "data": {
      "text/plain": [
       "DataFrame[area_type: string, location: string, BhkSize: string, bath: string, price: string, SqftofHome: float, PricePerSqft: double]"
      ]
     },
     "execution_count": 61,
     "metadata": {},
     "output_type": "execute_result"
    }
   ],
   "source": [
    "from pyspark.sql.functions import trim\n",
    "csfPPSftDF.withColumn('location',trim(csfPPSftDF.location))"
   ]
  },
  {
   "cell_type": "code",
   "execution_count": 62,
   "metadata": {
    "scrolled": true
   },
   "outputs": [],
   "source": [
    "from pyspark.sql.functions import avg\n",
    "csvLoctDF = csfPPSftDF.groupby(\"area_type\",\"location\",\"BhkSize\",\"SqftofHome\"\n",
    "                   ,\"PricePerSqft\",\"bath\",\"price\").agg(avg(\"SqftofHome\").alias('SqftSize'))"
   ]
  },
  {
   "cell_type": "code",
   "execution_count": 63,
   "metadata": {},
   "outputs": [
    {
     "name": "stdout",
     "output_type": "stream",
     "text": [
      "+--------------------+-------------------+-------+----------+------------------+----+-----+--------+\n",
      "|           area_type|           location|BhkSize|SqftofHome|      PricePerSqft|bath|price|SqftSize|\n",
      "+--------------------+-------------------+-------+----------+------------------+----+-----+--------+\n",
      "|          Plot  Area|Devarachikkanahalli|   8BHK|    1350.0|6296.2962962962965|   7|   85|  1350.0|\n",
      "|Super built-up  Area|        Thanisandra|   2BHK|    1296.0|  6172.83950617284|   2|   80|  1296.0|\n",
      "|Super built-up  Area| Basaveshwara Nagar|   2BHK|    1200.0| 5416.666666666667|   2|   65|  1200.0|\n",
      "+--------------------+-------------------+-------+----------+------------------+----+-----+--------+\n",
      "only showing top 3 rows\n",
      "\n"
     ]
    }
   ],
   "source": [
    "csvLoctDF.show(3)"
   ]
  },
  {
   "cell_type": "code",
   "execution_count": 64,
   "metadata": {},
   "outputs": [],
   "source": [
    "csvCleanDF = csvLoctDF"
   ]
  },
  {
   "cell_type": "code",
   "execution_count": 65,
   "metadata": {},
   "outputs": [
    {
     "data": {
      "text/plain": [
       "DataFrame[area_type: string, location: string, BhkSize: string, SqftofHome: float, PricePerSqft: double, bath: string, price: string, SqftSize: double]"
      ]
     },
     "execution_count": 65,
     "metadata": {},
     "output_type": "execute_result"
    }
   ],
   "source": [
    "csvCleanDF"
   ]
  },
  {
   "cell_type": "code",
   "execution_count": 66,
   "metadata": {},
   "outputs": [],
   "source": [
    "csvColDF = csvCleanDF.drop('SqftofHome')"
   ]
  },
  {
   "cell_type": "code",
   "execution_count": 67,
   "metadata": {},
   "outputs": [
    {
     "data": {
      "text/plain": [
       "DataFrame[area_type: string, location: string, BhkSize: string, PricePerSqft: double, bath: string, price: string, SqftSize: double]"
      ]
     },
     "execution_count": 67,
     "metadata": {},
     "output_type": "execute_result"
    }
   ],
   "source": [
    "csvColDF"
   ]
  },
  {
   "cell_type": "code",
   "execution_count": 68,
   "metadata": {},
   "outputs": [],
   "source": [
    "csvColCleanDF = csvColDF.withColumn('locationofHome',csvColDF.location)"
   ]
  },
  {
   "cell_type": "code",
   "execution_count": 69,
   "metadata": {},
   "outputs": [
    {
     "name": "stdout",
     "output_type": "stream",
     "text": [
      "+--------------------+-------------------+-------+------------------+----+-----+--------+-------------------+\n",
      "|           area_type|           location|BhkSize|      PricePerSqft|bath|price|SqftSize|     locationofHome|\n",
      "+--------------------+-------------------+-------+------------------+----+-----+--------+-------------------+\n",
      "|          Plot  Area|Devarachikkanahalli|   8BHK|6296.2962962962965|   7|   85|  1350.0|Devarachikkanahalli|\n",
      "|Super built-up  Area|        Thanisandra|   2BHK|  6172.83950617284|   2|   80|  1296.0|        Thanisandra|\n",
      "+--------------------+-------------------+-------+------------------+----+-----+--------+-------------------+\n",
      "only showing top 2 rows\n",
      "\n"
     ]
    }
   ],
   "source": [
    "csvColCleanDF.show(2)"
   ]
  },
  {
   "cell_type": "code",
   "execution_count": 70,
   "metadata": {},
   "outputs": [],
   "source": [
    "csvColCleanDF = csvColCleanDF.drop('location')"
   ]
  },
  {
   "cell_type": "code",
   "execution_count": 71,
   "metadata": {},
   "outputs": [
    {
     "name": "stdout",
     "output_type": "stream",
     "text": [
      "+--------------------+-------+------------------+----+-----+--------+-------------------+\n",
      "|           area_type|BhkSize|      PricePerSqft|bath|price|SqftSize|     locationofHome|\n",
      "+--------------------+-------+------------------+----+-----+--------+-------------------+\n",
      "|          Plot  Area|   8BHK|6296.2962962962965|   7|   85|  1350.0|Devarachikkanahalli|\n",
      "|Super built-up  Area|   2BHK|  6172.83950617284|   2|   80|  1296.0|        Thanisandra|\n",
      "|Super built-up  Area|   2BHK| 5416.666666666667|   2|   65|  1200.0| Basaveshwara Nagar|\n",
      "+--------------------+-------+------------------+----+-----+--------+-------------------+\n",
      "only showing top 3 rows\n",
      "\n"
     ]
    }
   ],
   "source": [
    "csvColCleanDF.show(3)"
   ]
  },
  {
   "cell_type": "code",
   "execution_count": 72,
   "metadata": {},
   "outputs": [],
   "source": [
    "csvfeatEngDF = csvColCleanDF.withColumn('AreaType',csvColDF.area_type)"
   ]
  },
  {
   "cell_type": "code",
   "execution_count": 73,
   "metadata": {},
   "outputs": [],
   "source": [
    "csvfeatEngDF = csvfeatEngDF.drop('area_type')"
   ]
  },
  {
   "cell_type": "code",
   "execution_count": 74,
   "metadata": {},
   "outputs": [
    {
     "name": "stdout",
     "output_type": "stream",
     "text": [
      "+-------+------------------+----+-----+--------+-------------------+--------------------+\n",
      "|BhkSize|      PricePerSqft|bath|price|SqftSize|     locationofHome|            AreaType|\n",
      "+-------+------------------+----+-----+--------+-------------------+--------------------+\n",
      "|   8BHK|6296.2962962962965|   7|   85|  1350.0|Devarachikkanahalli|          Plot  Area|\n",
      "|   2BHK|  6172.83950617284|   2|   80|  1296.0|        Thanisandra|Super built-up  Area|\n",
      "+-------+------------------+----+-----+--------+-------------------+--------------------+\n",
      "only showing top 2 rows\n",
      "\n"
     ]
    }
   ],
   "source": [
    "csvfeatEngDF.show(2)"
   ]
  },
  {
   "cell_type": "code",
   "execution_count": 78,
   "metadata": {
    "scrolled": false
   },
   "outputs": [
    {
     "name": "stdout",
     "output_type": "stream",
     "text": [
      "+-------+------------------+\n",
      "|summary|             price|\n",
      "+-------+------------------+\n",
      "|  count|             12508|\n",
      "|   mean|115.16789454748971|\n",
      "| stddev|152.74208540710612|\n",
      "|    min|                10|\n",
      "|    max|               995|\n",
      "+-------+------------------+\n",
      "\n"
     ]
    }
   ],
   "source": [
    "csvfeatEngDF.describe(['price']).show(5)"
   ]
  },
  {
   "cell_type": "code",
   "execution_count": 124,
   "metadata": {
    "scrolled": true
   },
   "outputs": [
    {
     "name": "stdout",
     "output_type": "stream",
     "text": [
      "+-------+------------------+----+-----+--------+-------------------+--------------------+\n",
      "|BhkSize|      PricePerSqft|bath|price|SqftSize|     locationofHome|            AreaType|\n",
      "+-------+------------------+----+-----+--------+-------------------+--------------------+\n",
      "|   8BHK|6296.2962962962965|   7|   85|  1350.0|Devarachikkanahalli|          Plot  Area|\n",
      "|   2BHK|  6172.83950617284|   2|   80|  1296.0|        Thanisandra|Super built-up  Area|\n",
      "|   2BHK| 5416.666666666667|   2|   65|  1200.0| Basaveshwara Nagar|Super built-up  Area|\n",
      "+-------+------------------+----+-----+--------+-------------------+--------------------+\n",
      "only showing top 3 rows\n",
      "\n"
     ]
    }
   ],
   "source": [
    "csvfeatEngDF.show(3)"
   ]
  },
  {
   "cell_type": "code",
   "execution_count": null,
   "metadata": {},
   "outputs": [],
   "source": [
    "csvfeatEngDF.write.csv('c:/Desktop/tableauModelReport.csv',header=True)"
   ]
  },
  {
   "cell_type": "code",
   "execution_count": 125,
   "metadata": {},
   "outputs": [],
   "source": [
    "import pandas as pd\n",
    "df = csvfeatEngDF.toPandas()"
   ]
  },
  {
   "cell_type": "code",
   "execution_count": 126,
   "metadata": {
    "scrolled": true
   },
   "outputs": [],
   "source": [
    "df.to_csv('C:/Desktop/bin/tableauModelReport.csv')"
   ]
  },
  {
   "cell_type": "code",
   "execution_count": null,
   "metadata": {},
   "outputs": [],
   "source": []
  }
 ],
 "metadata": {
  "kernelspec": {
   "display_name": "Python 3",
   "language": "python",
   "name": "python3"
  },
  "language_info": {
   "codemirror_mode": {
    "name": "ipython",
    "version": 3
   },
   "file_extension": ".py",
   "mimetype": "text/x-python",
   "name": "python",
   "nbconvert_exporter": "python",
   "pygments_lexer": "ipython3",
   "version": "3.7.6"
  }
 },
 "nbformat": 4,
 "nbformat_minor": 4
}
